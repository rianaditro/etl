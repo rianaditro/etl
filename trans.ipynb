{
 "cells": [
  {
   "cell_type": "code",
   "execution_count": 29,
   "metadata": {
    "vscode": {
     "languageId": "shellscript"
    }
   },
   "outputs": [],
   "source": [
    "import datetime\n"
   ]
  },
  {
   "cell_type": "code",
   "execution_count": 30,
   "metadata": {
    "vscode": {
     "languageId": "shellscript"
    }
   },
   "outputs": [
    {
     "name": "stdout",
     "output_type": "stream",
     "text": [
      "2025-04-29 17:40:52.283945\n"
     ]
    }
   ],
   "source": [
    "print(datetime.datetime.now())"
   ]
  },
  {
   "cell_type": "code",
   "execution_count": 17,
   "metadata": {
    "vscode": {
     "languageId": "shellscript"
    }
   },
   "outputs": [
    {
     "data": {
      "text/html": [
       "<div>\n",
       "<style scoped>\n",
       "    .dataframe tbody tr th:only-of-type {\n",
       "        vertical-align: middle;\n",
       "    }\n",
       "\n",
       "    .dataframe tbody tr th {\n",
       "        vertical-align: top;\n",
       "    }\n",
       "\n",
       "    .dataframe thead th {\n",
       "        text-align: right;\n",
       "    }\n",
       "</style>\n",
       "<table border=\"1\" class=\"dataframe\">\n",
       "  <thead>\n",
       "    <tr style=\"text-align: right;\">\n",
       "      <th></th>\n",
       "      <th>Title</th>\n",
       "      <th>Price</th>\n",
       "      <th>Rating</th>\n",
       "      <th>Colors</th>\n",
       "      <th>Size</th>\n",
       "      <th>Gender</th>\n",
       "    </tr>\n",
       "  </thead>\n",
       "  <tbody>\n",
       "    <tr>\n",
       "      <th>0</th>\n",
       "      <td>Unknown Product</td>\n",
       "      <td>100.00</td>\n",
       "      <td>Invalid Rating</td>\n",
       "      <td>5</td>\n",
       "      <td>M</td>\n",
       "      <td>Men</td>\n",
       "    </tr>\n",
       "    <tr>\n",
       "      <th>1</th>\n",
       "      <td>T-shirt 62</td>\n",
       "      <td>86.03</td>\n",
       "      <td>3.8</td>\n",
       "      <td>3</td>\n",
       "      <td>M</td>\n",
       "      <td>Women</td>\n",
       "    </tr>\n",
       "    <tr>\n",
       "      <th>2</th>\n",
       "      <td>Hoodie 63</td>\n",
       "      <td>404.95</td>\n",
       "      <td>3.6</td>\n",
       "      <td>3</td>\n",
       "      <td>L</td>\n",
       "      <td>Unisex</td>\n",
       "    </tr>\n",
       "    <tr>\n",
       "      <th>3</th>\n",
       "      <td>Pants 64</td>\n",
       "      <td>483.03</td>\n",
       "      <td>4.0</td>\n",
       "      <td>3</td>\n",
       "      <td>XL</td>\n",
       "      <td>Men</td>\n",
       "    </tr>\n",
       "    <tr>\n",
       "      <th>4</th>\n",
       "      <td>Outerwear 65</td>\n",
       "      <td>149.12</td>\n",
       "      <td>4.1</td>\n",
       "      <td>3</td>\n",
       "      <td>XXL</td>\n",
       "      <td>Women</td>\n",
       "    </tr>\n",
       "  </tbody>\n",
       "</table>\n",
       "</div>"
      ],
      "text/plain": [
       "             Title   Price          Rating  Colors Size  Gender\n",
       "0  Unknown Product  100.00  Invalid Rating       5    M     Men\n",
       "1       T-shirt 62   86.03             3.8       3    M   Women\n",
       "2        Hoodie 63  404.95             3.6       3    L  Unisex\n",
       "3         Pants 64  483.03             4.0       3   XL     Men\n",
       "4     Outerwear 65  149.12             4.1       3  XXL   Women"
      ]
     },
     "execution_count": 17,
     "metadata": {},
     "output_type": "execute_result"
    }
   ],
   "source": [
    "df = pandas.read_csv('fashionstudio.csv')\n",
    "df.head()"
   ]
  },
  {
   "cell_type": "code",
   "execution_count": 18,
   "metadata": {
    "vscode": {
     "languageId": "shellscript"
    }
   },
   "outputs": [
    {
     "name": "stdout",
     "output_type": "stream",
     "text": [
      "<class 'pandas.core.frame.DataFrame'>\n",
      "RangeIndex: 200 entries, 0 to 199\n",
      "Data columns (total 6 columns):\n",
      " #   Column  Non-Null Count  Dtype  \n",
      "---  ------  --------------  -----  \n",
      " 0   Title   200 non-null    object \n",
      " 1   Price   193 non-null    float64\n",
      " 2   Rating  200 non-null    object \n",
      " 3   Colors  200 non-null    int64  \n",
      " 4   Size    200 non-null    object \n",
      " 5   Gender  200 non-null    object \n",
      "dtypes: float64(1), int64(1), object(4)\n",
      "memory usage: 9.5+ KB\n"
     ]
    }
   ],
   "source": [
    "df.info()"
   ]
  },
  {
   "cell_type": "code",
   "execution_count": 20,
   "metadata": {},
   "outputs": [],
   "source": [
    "dirty_patterns = {\n",
    "    \"Title\": [\"Unknown Product\"],\n",
    "    \"Rating\": [\"Invalid Rating\", \"Not Rated\"],\n",
    "    \"Price\": [\"Price Unavailable\", None],\n",
    "    }\n",
    "\n",
    "clean_df = df.copy()\n"
   ]
  },
  {
   "cell_type": "code",
   "execution_count": 21,
   "metadata": {},
   "outputs": [],
   "source": [
    "mask = pandas.Series(True, index=df.index)\n",
    "\n",
    "for col, dirty_values in dirty_patterns.items():\n",
    "    if col in df.columns:  # Ensure column exists\n",
    "        mask &= ~df[col].isin(dirty_values)\n",
    "\n",
    "clean_df = df[mask].reset_index(drop=True)"
   ]
  },
  {
   "cell_type": "code",
   "execution_count": 23,
   "metadata": {},
   "outputs": [
    {
     "name": "stdout",
     "output_type": "stream",
     "text": [
      "<class 'pandas.core.frame.DataFrame'>\n",
      "RangeIndex: 173 entries, 0 to 172\n",
      "Data columns (total 6 columns):\n",
      " #   Column  Non-Null Count  Dtype  \n",
      "---  ------  --------------  -----  \n",
      " 0   Title   173 non-null    object \n",
      " 1   Price   173 non-null    float64\n",
      " 2   Rating  173 non-null    object \n",
      " 3   Colors  173 non-null    int64  \n",
      " 4   Size    173 non-null    object \n",
      " 5   Gender  173 non-null    object \n",
      "dtypes: float64(1), int64(1), object(4)\n",
      "memory usage: 8.2+ KB\n"
     ]
    }
   ],
   "source": [
    "clean_df.info()"
   ]
  },
  {
   "cell_type": "code",
   "execution_count": 24,
   "metadata": {},
   "outputs": [
    {
     "data": {
      "text/plain": [
       "Title     0\n",
       "Price     0\n",
       "Rating    0\n",
       "Colors    0\n",
       "Size      0\n",
       "Gender    0\n",
       "dtype: int64"
      ]
     },
     "execution_count": 24,
     "metadata": {},
     "output_type": "execute_result"
    }
   ],
   "source": [
    "clean_df.isnull().sum()"
   ]
  },
  {
   "cell_type": "code",
   "execution_count": 25,
   "metadata": {},
   "outputs": [
    {
     "name": "stdout",
     "output_type": "stream",
     "text": [
      "<class 'pandas.core.frame.DataFrame'>\n",
      "RangeIndex: 173 entries, 0 to 172\n",
      "Data columns (total 6 columns):\n",
      " #   Column  Non-Null Count  Dtype  \n",
      "---  ------  --------------  -----  \n",
      " 0   Title   173 non-null    object \n",
      " 1   Price   173 non-null    float64\n",
      " 2   Rating  173 non-null    object \n",
      " 3   Colors  173 non-null    int64  \n",
      " 4   Size    173 non-null    object \n",
      " 5   Gender  173 non-null    object \n",
      "dtypes: float64(1), int64(1), object(4)\n",
      "memory usage: 8.2+ KB\n"
     ]
    }
   ],
   "source": [
    "clean_df.info()"
   ]
  },
  {
   "cell_type": "code",
   "execution_count": 27,
   "metadata": {},
   "outputs": [
    {
     "name": "stdout",
     "output_type": "stream",
     "text": [
      "<class 'pandas.core.frame.DataFrame'>\n",
      "RangeIndex: 173 entries, 0 to 172\n",
      "Data columns (total 6 columns):\n",
      " #   Column  Non-Null Count  Dtype  \n",
      "---  ------  --------------  -----  \n",
      " 0   Title   173 non-null    object \n",
      " 1   Price   173 non-null    float64\n",
      " 2   Rating  173 non-null    float64\n",
      " 3   Colors  173 non-null    int64  \n",
      " 4   Size    173 non-null    object \n",
      " 5   Gender  173 non-null    object \n",
      "dtypes: float64(2), int64(1), object(3)\n",
      "memory usage: 8.2+ KB\n"
     ]
    }
   ],
   "source": [
    "clean_df['Rating'] = pandas.to_numeric(clean_df['Rating'])\n",
    "clean_df.info()"
   ]
  },
  {
   "cell_type": "code",
   "execution_count": 28,
   "metadata": {},
   "outputs": [
    {
     "name": "stdout",
     "output_type": "stream",
     "text": [
      "<class 'pandas.core.frame.DataFrame'>\n",
      "RangeIndex: 173 entries, 0 to 172\n",
      "Data columns (total 6 columns):\n",
      " #   Column  Non-Null Count  Dtype  \n",
      "---  ------  --------------  -----  \n",
      " 0   Title   173 non-null    object \n",
      " 1   Price   173 non-null    float64\n",
      " 2   Rating  173 non-null    float64\n",
      " 3   Colors  173 non-null    int64  \n",
      " 4   Size    173 non-null    object \n",
      " 5   Gender  173 non-null    object \n",
      "dtypes: float64(2), int64(1), object(3)\n",
      "memory usage: 8.2+ KB\n"
     ]
    }
   ],
   "source": [
    "clean_df.info()"
   ]
  },
  {
   "cell_type": "code",
   "execution_count": null,
   "metadata": {},
   "outputs": [],
   "source": []
  }
 ],
 "metadata": {
  "kernelspec": {
   "display_name": "Python 3",
   "language": "python",
   "name": "python3"
  },
  "language_info": {
   "codemirror_mode": {
    "name": "ipython",
    "version": 3
   },
   "file_extension": ".py",
   "mimetype": "text/x-python",
   "name": "python",
   "nbconvert_exporter": "python",
   "pygments_lexer": "ipython3",
   "version": "3.10.12"
  }
 },
 "nbformat": 4,
 "nbformat_minor": 2
}
